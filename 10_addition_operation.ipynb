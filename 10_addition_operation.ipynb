{
 "cells": [
  {
   "cell_type": "code",
   "execution_count": 1,
   "id": "74fc9bba",
   "metadata": {},
   "outputs": [],
   "source": [
    "#Arithmatic operations\n",
    "#addition\n",
    "import numpy as np\n",
    "import cv2"
   ]
  },
  {
   "cell_type": "code",
   "execution_count": 2,
   "id": "4409ed11",
   "metadata": {},
   "outputs": [],
   "source": [
    "img=cv2.imread('./files/flemingo.jpg')"
   ]
  },
  {
   "cell_type": "code",
   "execution_count": 3,
   "id": "d78b330e",
   "metadata": {},
   "outputs": [],
   "source": [
    "#display function\n",
    "\n",
    "def display(winname,src):\n",
    "    cv2.imshow(winname,src)\n",
    "    cv2.waitKey(0)\n",
    "    cv2.destroyAllWindows()"
   ]
  },
  {
   "cell_type": "code",
   "execution_count": 4,
   "id": "20089c93",
   "metadata": {},
   "outputs": [],
   "source": [
    "#adding value to each and every pixel\n",
    "value=np.ones_like(img,dtype='uint8')*50\n",
    "\n",
    "display('value',value)"
   ]
  },
  {
   "cell_type": "code",
   "execution_count": 5,
   "id": "58cff04c",
   "metadata": {},
   "outputs": [],
   "source": [
    "#addition\n",
    "img_add=cv2.add(img,value)\n",
    "display('original',img)\n",
    "display('addition',img_add)#brightness increased"
   ]
  },
  {
   "cell_type": "code",
   "execution_count": null,
   "id": "c644c90a",
   "metadata": {},
   "outputs": [],
   "source": []
  }
 ],
 "metadata": {
  "kernelspec": {
   "display_name": "Python 3 (ipykernel)",
   "language": "python",
   "name": "python3"
  },
  "language_info": {
   "codemirror_mode": {
    "name": "ipython",
    "version": 3
   },
   "file_extension": ".py",
   "mimetype": "text/x-python",
   "name": "python",
   "nbconvert_exporter": "python",
   "pygments_lexer": "ipython3",
   "version": "3.10.0"
  }
 },
 "nbformat": 4,
 "nbformat_minor": 5
}
