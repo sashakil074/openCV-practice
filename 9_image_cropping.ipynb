{
 "cells": [
  {
   "cell_type": "code",
   "execution_count": 1,
   "id": "16da92a2",
   "metadata": {},
   "outputs": [],
   "source": [
    "#image transformations\n",
    "#image cropping\n",
    "import numpy as np\n",
    "import cv2"
   ]
  },
  {
   "cell_type": "code",
   "execution_count": 2,
   "id": "809c932d",
   "metadata": {},
   "outputs": [],
   "source": [
    "img=cv2.imread('./files/flemingo.jpg')"
   ]
  },
  {
   "cell_type": "code",
   "execution_count": 3,
   "id": "bd3ea509",
   "metadata": {},
   "outputs": [],
   "source": [
    "#display function\n",
    "\n",
    "def display(winname,src):\n",
    "    cv2.imshow(winname,src)\n",
    "    cv2.waitKey(0)\n",
    "    cv2.destroyAllWindows()"
   ]
  },
  {
   "cell_type": "code",
   "execution_count": 4,
   "id": "514b1325",
   "metadata": {},
   "outputs": [],
   "source": [
    "crop=img[0:200,0:200]\n",
    "display('cropped image',crop)"
   ]
  },
  {
   "cell_type": "code",
   "execution_count": null,
   "id": "0b4aa28a",
   "metadata": {},
   "outputs": [],
   "source": []
  }
 ],
 "metadata": {
  "kernelspec": {
   "display_name": "Python 3 (ipykernel)",
   "language": "python",
   "name": "python3"
  },
  "language_info": {
   "codemirror_mode": {
    "name": "ipython",
    "version": 3
   },
   "file_extension": ".py",
   "mimetype": "text/x-python",
   "name": "python",
   "nbconvert_exporter": "python",
   "pygments_lexer": "ipython3",
   "version": "3.10.0"
  }
 },
 "nbformat": 4,
 "nbformat_minor": 5
}
