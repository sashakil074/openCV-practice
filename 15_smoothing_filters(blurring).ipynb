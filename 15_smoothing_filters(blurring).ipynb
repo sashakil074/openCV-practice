{
 "cells": [
  {
   "cell_type": "code",
   "execution_count": 1,
   "id": "5fe372cb",
   "metadata": {},
   "outputs": [],
   "source": [
    "import numpy as np\n",
    "import cv2\n",
    "\n",
    "img=cv2.imread('./files/beach.jpg')\n",
    "cv2.imshow('beach',img)\n",
    "cv2.waitKey(0)\n",
    "cv2.destroyAllWindows()"
   ]
  },
  {
   "cell_type": "code",
   "execution_count": 2,
   "id": "3ace1249",
   "metadata": {},
   "outputs": [],
   "source": [
    "#average blur\n",
    "\n",
    "blur_img3=cv2.blur(img,(3,3))\n",
    "blur_img5=cv2.blur(img,(5,5))\n",
    "blur_img7=cv2.blur(img,(7,7))\n",
    "\n",
    "cv2.imshow('normal',img)\n",
    "cv2.imshow('blur 3',blur_img3)\n",
    "cv2.imshow('blur 5',blur_img5)\n",
    "cv2.imshow('blur 7',blur_img7)\n",
    "cv2.waitKey(0)\n",
    "cv2.destroyAllWindows()"
   ]
  },
  {
   "cell_type": "code",
   "execution_count": 4,
   "id": "90028513",
   "metadata": {},
   "outputs": [],
   "source": [
    "#Gaussian blur\n",
    "\n",
    "gauss_blur_img3=cv2.GaussianBlur(img,(3,3),0) # sigmax=standard deviation along x=0=compute values automatically\n",
    "gauss_blur_img5=cv2.GaussianBlur(img,(5,5),0)\n",
    "gauss_blur_img7=cv2.GaussianBlur(img,(7,7),0)\n",
    "\n",
    "cv2.imshow('normal',img)\n",
    "cv2.imshow('gauss_blur 3',gauss_blur_img3)\n",
    "cv2.imshow('gauss_blur 5',gauss_blur_img5)\n",
    "cv2.imshow('gauss_blur 7',gauss_blur_img7)\n",
    "cv2.waitKey(0)\n",
    "cv2.destroyAllWindows()"
   ]
  },
  {
   "cell_type": "code",
   "execution_count": 5,
   "id": "c3a28589",
   "metadata": {},
   "outputs": [],
   "source": [
    "#median blur\n",
    "img=cv2.imread('./files/sp_noise.png')\n",
    "cv2.imshow('SP noise',img)\n",
    "cv2.waitKey(0)\n",
    "cv2.destroyAllWindows()"
   ]
  },
  {
   "cell_type": "code",
   "execution_count": 7,
   "id": "1d4c5d61",
   "metadata": {},
   "outputs": [],
   "source": [
    "median_blur_img3=cv2.medianBlur(img,3) #3=(3,3)\n",
    "median_blur_img5=cv2.medianBlur(img,5)\n",
    "median_blur_img7=cv2.medianBlur(img,7)\n",
    "\n",
    "cv2.imshow('normal',img)\n",
    "cv2.imshow('median_blur 3',median_blur_img3)\n",
    "cv2.imshow('median_blur 5',median_blur_img5)\n",
    "cv2.imshow('median_blur 7',median_blur_img7)\n",
    "cv2.waitKey(0)\n",
    "cv2.destroyAllWindows()"
   ]
  },
  {
   "cell_type": "code",
   "execution_count": null,
   "id": "fd340688",
   "metadata": {},
   "outputs": [],
   "source": []
  }
 ],
 "metadata": {
  "kernelspec": {
   "display_name": "Python 3 (ipykernel)",
   "language": "python",
   "name": "python3"
  },
  "language_info": {
   "codemirror_mode": {
    "name": "ipython",
    "version": 3
   },
   "file_extension": ".py",
   "mimetype": "text/x-python",
   "name": "python",
   "nbconvert_exporter": "python",
   "pygments_lexer": "ipython3",
   "version": "3.10.0"
  }
 },
 "nbformat": 4,
 "nbformat_minor": 5
}
