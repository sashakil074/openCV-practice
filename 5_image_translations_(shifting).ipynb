{
 "cells": [
  {
   "cell_type": "code",
   "execution_count": 2,
   "id": "01dd44c9",
   "metadata": {},
   "outputs": [],
   "source": [
    "#image transformations\n",
    "#image translations(shifting)\n",
    "import numpy as np\n",
    "import cv2"
   ]
  },
  {
   "cell_type": "code",
   "execution_count": null,
   "id": "c6559386",
   "metadata": {},
   "outputs": [],
   "source": []
  },
  {
   "cell_type": "code",
   "execution_count": 3,
   "id": "2d65d61c",
   "metadata": {},
   "outputs": [],
   "source": [
    "img=cv2.imread('./files/flemingo.jpg')"
   ]
  },
  {
   "cell_type": "code",
   "execution_count": 4,
   "id": "470f61ca",
   "metadata": {},
   "outputs": [],
   "source": [
    "#display function\n",
    "\n",
    "def display(winname,src):\n",
    "    cv2.imshow(winname,src)\n",
    "    cv2.waitKey(0)\n",
    "    cv2.destroyAllWindows()"
   ]
  },
  {
   "cell_type": "code",
   "execution_count": 7,
   "id": "8e30783c",
   "metadata": {},
   "outputs": [],
   "source": [
    "#translation matrix M\n",
    "tx=100\n",
    "ty=150\n",
    "M=np.float32([[1,0,tx],[0,1,ty]])"
   ]
  },
  {
   "cell_type": "code",
   "execution_count": 8,
   "id": "942d2745",
   "metadata": {},
   "outputs": [],
   "source": [
    "#translation\n",
    "image_shifted=cv2.warpAffine(img,M,(img.shape[1],img.shape[0]))\n",
    "\n",
    "display('shifted image',image_shifted )"
   ]
  },
  {
   "cell_type": "code",
   "execution_count": 10,
   "id": "a12f94c9",
   "metadata": {},
   "outputs": [],
   "source": [
    "#shifting function creation\n",
    "def translate(src,tx,ty):\n",
    "    M=np.float32([[1,0,tx],[0,1,ty]])\n",
    "    #translation\n",
    "    image_shifted=cv2.warpAffine(src,M,(src.shape[1],src.shape[0]))\n",
    "\n",
    "    display('shifted image',image_shifted )"
   ]
  },
  {
   "cell_type": "code",
   "execution_count": 11,
   "id": "2e5d1f73",
   "metadata": {},
   "outputs": [],
   "source": [
    "translate(img,-150,-100)"
   ]
  },
  {
   "cell_type": "code",
   "execution_count": 12,
   "id": "14fafaf7",
   "metadata": {},
   "outputs": [
    {
     "data": {
      "text/plain": [
       "479"
      ]
     },
     "execution_count": 12,
     "metadata": {},
     "output_type": "execute_result"
    }
   ],
   "source": []
  },
  {
   "cell_type": "code",
   "execution_count": null,
   "id": "e2b987bd",
   "metadata": {},
   "outputs": [],
   "source": []
  }
 ],
 "metadata": {
  "kernelspec": {
   "display_name": "Python 3 (ipykernel)",
   "language": "python",
   "name": "python3"
  },
  "language_info": {
   "codemirror_mode": {
    "name": "ipython",
    "version": 3
   },
   "file_extension": ".py",
   "mimetype": "text/x-python",
   "name": "python",
   "nbconvert_exporter": "python",
   "pygments_lexer": "ipython3",
   "version": "3.10.0"
  }
 },
 "nbformat": 4,
 "nbformat_minor": 5
}
