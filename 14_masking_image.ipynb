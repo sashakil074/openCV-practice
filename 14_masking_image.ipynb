{
 "cells": [
  {
   "cell_type": "code",
   "execution_count": 4,
   "id": "275f3f74",
   "metadata": {},
   "outputs": [],
   "source": [
    "#peparing mask image\n",
    "import numpy as np\n",
    "import cv2\n",
    "\n",
    "img=cv2.imread('./files/beach.jpg')\n",
    "cv2.imshow('beach',img)\n",
    "cv2.waitKey(0)\n",
    "cv2.destroyAllWindows()"
   ]
  },
  {
   "cell_type": "code",
   "execution_count": 7,
   "id": "277cb6ad",
   "metadata": {},
   "outputs": [
    {
     "data": {
      "text/plain": [
       "array([[0, 0, 0, ..., 0, 0, 0],\n",
       "       [0, 0, 0, ..., 0, 0, 0],\n",
       "       [0, 0, 0, ..., 0, 0, 0],\n",
       "       ...,\n",
       "       [0, 0, 0, ..., 0, 0, 0],\n",
       "       [0, 0, 0, ..., 0, 0, 0],\n",
       "       [0, 0, 0, ..., 0, 0, 0]], dtype=uint8)"
      ]
     },
     "execution_count": 7,
     "metadata": {},
     "output_type": "execute_result"
    }
   ],
   "source": [
    "mask=np.zeros(img.shape[:2],dtype=\"uint8\")\n",
    "cx,cy=mask.shape[1]//2,mask.shape[0]//2\n",
    "cv2.rectangle(mask,(cx-200,cy-200),(cx+200,cy+200),255,-1)"
   ]
  },
  {
   "cell_type": "code",
   "execution_count": 8,
   "id": "d9ad567c",
   "metadata": {},
   "outputs": [],
   "source": [
    "#masking image using mask\n",
    "#bitwise AND and masking\n",
    "\n",
    "img_mask=cv2.bitwise_and(img,img,mask=mask)\n",
    "cv2.imshow('masked image',img_mask)\n",
    "cv2.waitKey(0)\n",
    "cv2.destroyAllWindows()"
   ]
  },
  {
   "cell_type": "code",
   "execution_count": 9,
   "id": "57a0b4fa",
   "metadata": {},
   "outputs": [],
   "source": [
    "#masking image with different shape\n",
    "#will show rest of the portion without rectangle box\n",
    "mask_not=cv2.bitwise_not(mask)\n",
    "img_mask_not=cv2.bitwise_and(img,img,mask=mask_not)\n",
    "cv2.imshow('masked image',img_mask_not)\n",
    "cv2.waitKey(0)\n",
    "cv2.destroyAllWindows()"
   ]
  },
  {
   "cell_type": "code",
   "execution_count": 10,
   "id": "04f414cf",
   "metadata": {},
   "outputs": [],
   "source": [
    "#masking circle shape\n",
    "\n",
    "mask_circle=np.zeros(img.shape[:2],dtype=\"uint8\")\n",
    "cx,cy=mask.shape[1]//2,mask.shape[0]//2\n",
    "cv2.circle(mask_circle,(cx,cy),200,255,-1)\n",
    "\n",
    "img_mask_circle=cv2.bitwise_and(img,img,mask=mask_circle)\n",
    "cv2.imshow('masked image',img_mask_circle)\n",
    "cv2.waitKey(0)\n",
    "cv2.destroyAllWindows()"
   ]
  },
  {
   "cell_type": "code",
   "execution_count": null,
   "id": "0d39f413",
   "metadata": {},
   "outputs": [],
   "source": []
  },
  {
   "cell_type": "code",
   "execution_count": null,
   "id": "b2b5432b",
   "metadata": {},
   "outputs": [],
   "source": []
  },
  {
   "cell_type": "code",
   "execution_count": null,
   "id": "0424b398",
   "metadata": {},
   "outputs": [],
   "source": []
  }
 ],
 "metadata": {
  "kernelspec": {
   "display_name": "Python 3 (ipykernel)",
   "language": "python",
   "name": "python3"
  },
  "language_info": {
   "codemirror_mode": {
    "name": "ipython",
    "version": 3
   },
   "file_extension": ".py",
   "mimetype": "text/x-python",
   "name": "python",
   "nbconvert_exporter": "python",
   "pygments_lexer": "ipython3",
   "version": "3.10.0"
  }
 },
 "nbformat": 4,
 "nbformat_minor": 5
}
