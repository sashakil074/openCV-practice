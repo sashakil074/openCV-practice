{
 "cells": [
  {
   "cell_type": "code",
   "execution_count": 1,
   "id": "b984987f",
   "metadata": {},
   "outputs": [],
   "source": [
    "#Arithmatic operations\n",
    "#subtraction\n",
    "import numpy as np\n",
    "import cv2"
   ]
  },
  {
   "cell_type": "code",
   "execution_count": 2,
   "id": "a9b3ced1",
   "metadata": {},
   "outputs": [],
   "source": [
    "img=cv2.imread('./files/flemingo.jpg')"
   ]
  },
  {
   "cell_type": "code",
   "execution_count": 3,
   "id": "d20cb494",
   "metadata": {},
   "outputs": [],
   "source": [
    "#display function\n",
    "\n",
    "def display(winname,src):\n",
    "    cv2.imshow(winname,src)\n",
    "    cv2.waitKey(0)\n",
    "    cv2.destroyAllWindows()"
   ]
  },
  {
   "cell_type": "code",
   "execution_count": 4,
   "id": "73cbfc79",
   "metadata": {},
   "outputs": [],
   "source": [
    "#adding value to each and every pixel\n",
    "value=np.ones_like(img,dtype='uint8')*75\n",
    "\n",
    "display('value',value)"
   ]
  },
  {
   "cell_type": "code",
   "execution_count": 5,
   "id": "ff8f7032",
   "metadata": {},
   "outputs": [],
   "source": [
    "#subtraction\n",
    "img_sub=cv2.subtract(img,value)\n",
    "display('original',img)\n",
    "display('subtracted',img_sub)#brightness decreased"
   ]
  },
  {
   "cell_type": "code",
   "execution_count": null,
   "id": "d22f9135",
   "metadata": {},
   "outputs": [],
   "source": []
  }
 ],
 "metadata": {
  "kernelspec": {
   "display_name": "Python 3 (ipykernel)",
   "language": "python",
   "name": "python3"
  },
  "language_info": {
   "codemirror_mode": {
    "name": "ipython",
    "version": 3
   },
   "file_extension": ".py",
   "mimetype": "text/x-python",
   "name": "python",
   "nbconvert_exporter": "python",
   "pygments_lexer": "ipython3",
   "version": "3.10.0"
  }
 },
 "nbformat": 4,
 "nbformat_minor": 5
}
