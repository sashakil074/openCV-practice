{
 "cells": [
  {
   "cell_type": "code",
   "execution_count": 1,
   "id": "94b720b2",
   "metadata": {},
   "outputs": [],
   "source": [
    "#image transformations\n",
    "#image rotations\n",
    "import numpy as np\n",
    "import cv2"
   ]
  },
  {
   "cell_type": "code",
   "execution_count": 2,
   "id": "702eae8c",
   "metadata": {},
   "outputs": [],
   "source": [
    "img=cv2.imread('./files/flemingo.jpg')"
   ]
  },
  {
   "cell_type": "code",
   "execution_count": 3,
   "id": "5dbff5e2",
   "metadata": {},
   "outputs": [],
   "source": [
    "#display function\n",
    "\n",
    "def display(winname,src):\n",
    "    cv2.imshow(winname,src)\n",
    "    cv2.waitKey(0)\n",
    "    cv2.destroyAllWindows()"
   ]
  },
  {
   "cell_type": "code",
   "execution_count": 4,
   "id": "33b51940",
   "metadata": {},
   "outputs": [],
   "source": [
    "#rotation matrix\n",
    "center=(img.shape[1]//2,img.shape[0]//2)\n",
    "\n",
    "M=cv2.getRotationMatrix2D(center,45,1)#45 degree anti-clockwise\n",
    "\n",
    "#rotation\n",
    "image_rotated=cv2.warpAffine(img,M,(img.shape[1],img.shape[0]))\n",
    "display('Rotated image',image_rotated)"
   ]
  },
  {
   "cell_type": "code",
   "execution_count": 5,
   "id": "5436a4a0",
   "metadata": {},
   "outputs": [],
   "source": [
    "#rotation function creation\n",
    "def rotate(image,angle,scale):\n",
    "    #rotation matrix\n",
    "    center=(image.shape[1]//2,image.shape[0]//2)\n",
    "\n",
    "    M=cv2.getRotationMatrix2D(center,angle,scale)\n",
    "\n",
    "    #rotation\n",
    "    image_rotated=cv2.warpAffine(image,M,(image.shape[1],image.shape[0]))\n",
    "    display('Rotated image',image_rotated)"
   ]
  },
  {
   "cell_type": "code",
   "execution_count": 6,
   "id": "3a32a232",
   "metadata": {},
   "outputs": [],
   "source": [
    "rotate(img,45,1)#45 degree anti-clockwise"
   ]
  },
  {
   "cell_type": "code",
   "execution_count": 7,
   "id": "d737b3ff",
   "metadata": {},
   "outputs": [],
   "source": [
    "rotate(img,45,0.5)#45 degree anti-clockwise scale 0.5"
   ]
  },
  {
   "cell_type": "code",
   "execution_count": 8,
   "id": "8283dd08",
   "metadata": {},
   "outputs": [],
   "source": [
    "rotate(img,-45,1)#45 degree clockwise"
   ]
  },
  {
   "cell_type": "code",
   "execution_count": 9,
   "id": "c8441168",
   "metadata": {},
   "outputs": [],
   "source": [
    "rotate(img,90,1)#90 degree anti-clockwise"
   ]
  },
  {
   "cell_type": "code",
   "execution_count": 10,
   "id": "8ffcde1c",
   "metadata": {},
   "outputs": [],
   "source": [
    "rotate(img,-90,1)#90 degree clockwise"
   ]
  },
  {
   "cell_type": "code",
   "execution_count": null,
   "id": "676d964b",
   "metadata": {},
   "outputs": [],
   "source": []
  }
 ],
 "metadata": {
  "kernelspec": {
   "display_name": "Python 3 (ipykernel)",
   "language": "python",
   "name": "python3"
  },
  "language_info": {
   "codemirror_mode": {
    "name": "ipython",
    "version": 3
   },
   "file_extension": ".py",
   "mimetype": "text/x-python",
   "name": "python",
   "nbconvert_exporter": "python",
   "pygments_lexer": "ipython3",
   "version": "3.10.0"
  }
 },
 "nbformat": 4,
 "nbformat_minor": 5
}
