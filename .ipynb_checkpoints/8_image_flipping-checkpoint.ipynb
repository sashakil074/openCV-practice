{
 "cells": [
  {
   "cell_type": "code",
   "execution_count": 1,
   "id": "3693a457",
   "metadata": {},
   "outputs": [],
   "source": [
    "#image transformations\n",
    "#image flipping\n",
    "import numpy as np\n",
    "import cv2"
   ]
  },
  {
   "cell_type": "code",
   "execution_count": 2,
   "id": "03aaadd3",
   "metadata": {},
   "outputs": [],
   "source": [
    "img=cv2.imread('./files/flemingo.jpg')"
   ]
  },
  {
   "cell_type": "code",
   "execution_count": 3,
   "id": "c776eae2",
   "metadata": {},
   "outputs": [],
   "source": [
    "#display function\n",
    "\n",
    "def display(winname,src):\n",
    "    cv2.imshow(winname,src)\n",
    "    cv2.waitKey(0)\n",
    "    cv2.destroyAllWindows()"
   ]
  },
  {
   "cell_type": "code",
   "execution_count": 4,
   "id": "3305be43",
   "metadata": {},
   "outputs": [],
   "source": [
    "image_flipped=cv2.flip(img,1) #1=flip horizontally\n",
    "display('horizontally flipped',image_flipped)"
   ]
  },
  {
   "cell_type": "code",
   "execution_count": 5,
   "id": "7feedc19",
   "metadata": {},
   "outputs": [],
   "source": [
    "image_flipped=cv2.flip(img,-1) #-1=flip vertically\n",
    "display('vertically flipped',image_flipped)"
   ]
  },
  {
   "cell_type": "code",
   "execution_count": 6,
   "id": "e37d761c",
   "metadata": {},
   "outputs": [],
   "source": [
    "image_flipped=cv2.flip(img,0) #0=flip horizontally and vertically\n",
    "display('horizontally and vertically flipped',image_flipped)"
   ]
  },
  {
   "cell_type": "code",
   "execution_count": null,
   "id": "0a596ff1",
   "metadata": {},
   "outputs": [],
   "source": []
  }
 ],
 "metadata": {
  "kernelspec": {
   "display_name": "Python 3 (ipykernel)",
   "language": "python",
   "name": "python3"
  },
  "language_info": {
   "codemirror_mode": {
    "name": "ipython",
    "version": 3
   },
   "file_extension": ".py",
   "mimetype": "text/x-python",
   "name": "python",
   "nbconvert_exporter": "python",
   "pygments_lexer": "ipython3",
   "version": "3.10.0"
  }
 },
 "nbformat": 4,
 "nbformat_minor": 5
}
