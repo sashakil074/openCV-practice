{
 "cells": [
  {
   "cell_type": "code",
   "execution_count": 1,
   "id": "97d14c83",
   "metadata": {},
   "outputs": [],
   "source": [
    "#image transformations\n",
    "#image resizing\n",
    "import numpy as np\n",
    "import cv2"
   ]
  },
  {
   "cell_type": "code",
   "execution_count": 2,
   "id": "c98337e2",
   "metadata": {},
   "outputs": [],
   "source": [
    "img=cv2.imread('./files/flemingo.jpg')"
   ]
  },
  {
   "cell_type": "code",
   "execution_count": 3,
   "id": "7fa3604d",
   "metadata": {},
   "outputs": [],
   "source": [
    "#display function\n",
    "\n",
    "def display(winname,src):\n",
    "    cv2.imshow(winname,src)\n",
    "    cv2.waitKey(0)\n",
    "    cv2.destroyAllWindows()"
   ]
  },
  {
   "cell_type": "code",
   "execution_count": 4,
   "id": "0f25cc51",
   "metadata": {},
   "outputs": [],
   "source": [
    "image_resized=cv2.resize(img,(300,300),interpolation=cv2.INTER_AREA)"
   ]
  },
  {
   "cell_type": "code",
   "execution_count": 5,
   "id": "b0357683",
   "metadata": {},
   "outputs": [],
   "source": [
    "display('resized image',image_resized)"
   ]
  },
  {
   "cell_type": "code",
   "execution_count": null,
   "id": "d071b51c",
   "metadata": {},
   "outputs": [],
   "source": []
  }
 ],
 "metadata": {
  "kernelspec": {
   "display_name": "Python 3 (ipykernel)",
   "language": "python",
   "name": "python3"
  },
  "language_info": {
   "codemirror_mode": {
    "name": "ipython",
    "version": 3
   },
   "file_extension": ".py",
   "mimetype": "text/x-python",
   "name": "python",
   "nbconvert_exporter": "python",
   "pygments_lexer": "ipython3",
   "version": "3.10.0"
  }
 },
 "nbformat": 4,
 "nbformat_minor": 5
}
