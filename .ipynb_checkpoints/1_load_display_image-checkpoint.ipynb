{
 "cells": [
  {
   "cell_type": "code",
   "execution_count": 16,
   "id": "54aacbc3",
   "metadata": {},
   "outputs": [],
   "source": [
    "import numpy as np\n",
    "import cv2"
   ]
  },
  {
   "cell_type": "code",
   "execution_count": 17,
   "id": "21233662",
   "metadata": {},
   "outputs": [
    {
     "name": "stdout",
     "output_type": "stream",
     "text": [
      "[[[240 226 204]\n",
      "  [240 226 204]\n",
      "  [240 226 204]\n",
      "  ...\n",
      "  [222 173 129]\n",
      "  [223 174 130]\n",
      "  [223 174 130]]\n",
      "\n",
      " [[241 227 205]\n",
      "  [241 227 205]\n",
      "  [240 226 204]\n",
      "  ...\n",
      "  [223 174 130]\n",
      "  [223 174 130]\n",
      "  [223 174 130]]\n",
      "\n",
      " [[242 228 209]\n",
      "  [241 227 208]\n",
      "  [240 227 205]\n",
      "  ...\n",
      "  [224 174 132]\n",
      "  [225 175 133]\n",
      "  [223 175 133]]\n",
      "\n",
      " ...\n",
      "\n",
      " [[173 184 152]\n",
      "  [173 184 152]\n",
      "  [171 182 150]\n",
      "  ...\n",
      "  [168 177 137]\n",
      "  [168 177 137]\n",
      "  [167 176 136]]\n",
      "\n",
      " [[177 188 156]\n",
      "  [178 189 157]\n",
      "  [175 186 154]\n",
      "  ...\n",
      "  [168 177 137]\n",
      "  [168 177 137]\n",
      "  [165 174 134]]\n",
      "\n",
      " [[181 195 161]\n",
      "  [180 194 160]\n",
      "  [177 191 157]\n",
      "  ...\n",
      "  [163 174 134]\n",
      "  [163 174 134]\n",
      "  [159 171 129]]]\n"
     ]
    },
    {
     "data": {
      "text/plain": [
       "(359, 479, 3)"
      ]
     },
     "execution_count": 17,
     "metadata": {},
     "output_type": "execute_result"
    }
   ],
   "source": [
    "img=cv2.imread('./files/flemingo.jpg')\n",
    "\n",
    "print(img)\n",
    "\n",
    "img.shape"
   ]
  },
  {
   "cell_type": "code",
   "execution_count": 18,
   "id": "3499f351",
   "metadata": {},
   "outputs": [],
   "source": [
    "cv2.imshow('Flemingo',img)\n",
    "cv2.waitKey(0)\n",
    "cv2.destroyAllWindows()"
   ]
  },
  {
   "cell_type": "code",
   "execution_count": 19,
   "id": "41db6847",
   "metadata": {},
   "outputs": [
    {
     "data": {
      "text/plain": [
       "True"
      ]
     },
     "execution_count": 19,
     "metadata": {},
     "output_type": "execute_result"
    }
   ],
   "source": [
    "#Saving image on disk\n",
    "\n",
    "cv2.imwrite('example.png',img)\n"
   ]
  },
  {
   "cell_type": "code",
   "execution_count": null,
   "id": "17a2fac8",
   "metadata": {},
   "outputs": [],
   "source": []
  }
 ],
 "metadata": {
  "kernelspec": {
   "display_name": "Python 3 (ipykernel)",
   "language": "python",
   "name": "python3"
  },
  "language_info": {
   "codemirror_mode": {
    "name": "ipython",
    "version": 3
   },
   "file_extension": ".py",
   "mimetype": "text/x-python",
   "name": "python",
   "nbconvert_exporter": "python",
   "pygments_lexer": "ipython3",
   "version": "3.10.0"
  }
 },
 "nbformat": 4,
 "nbformat_minor": 5
}
