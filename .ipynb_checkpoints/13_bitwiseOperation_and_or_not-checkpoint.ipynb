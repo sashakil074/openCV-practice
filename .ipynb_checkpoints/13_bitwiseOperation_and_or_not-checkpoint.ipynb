{
 "cells": [
  {
   "cell_type": "code",
   "execution_count": 1,
   "id": "2fe2117c",
   "metadata": {},
   "outputs": [],
   "source": [
    "import numpy as np\n",
    "import cv2"
   ]
  },
  {
   "cell_type": "code",
   "execution_count": 2,
   "id": "3b89f1c6",
   "metadata": {},
   "outputs": [],
   "source": [
    "#rectangle draw\n",
    "rectangle=np.zeros((300,300),dtype=\"uint8\")\n",
    "cv2.rectangle(rectangle,(25,25),(275,275),255,-1)\n",
    "cv2.imshow('rectangle',rectangle)\n",
    "cv2.waitKey(0)\n",
    "cv2.destroyAllWindows()"
   ]
  },
  {
   "cell_type": "code",
   "execution_count": 3,
   "id": "1087b7db",
   "metadata": {},
   "outputs": [],
   "source": [
    "#circle draw\n",
    "circle=np.zeros((300,300),dtype=\"uint8\")\n",
    "cv2.circle(circle,(150,150),150,255,-1)\n",
    "cv2.imshow('circle',circle)\n",
    "cv2.waitKey(0)\n",
    "cv2.destroyAllWindows()"
   ]
  },
  {
   "cell_type": "code",
   "execution_count": 4,
   "id": "8cff7b0b",
   "metadata": {},
   "outputs": [],
   "source": [
    "#AND Operation(intertsection)\n",
    "img_and=cv2.bitwise_and(rectangle,circle)\n",
    "cv2.imshow('And',img_and)\n",
    "cv2.waitKey(0)\n",
    "cv2.destroyAllWindows()"
   ]
  },
  {
   "cell_type": "code",
   "execution_count": 5,
   "id": "6d2b3865",
   "metadata": {},
   "outputs": [],
   "source": [
    "#OR operation (union)\n",
    "img_or=cv2.bitwise_or(rectangle,circle)\n",
    "cv2.imshow('OR',img_or)\n",
    "cv2.waitKey(0)\n",
    "cv2.destroyAllWindows()"
   ]
  },
  {
   "cell_type": "code",
   "execution_count": 6,
   "id": "b052186e",
   "metadata": {},
   "outputs": [],
   "source": [
    "#not operation(complement)\n",
    "img_not=cv2.bitwise_not(rectangle)\n",
    "cv2.imshow('NOT',img_not)\n",
    "cv2.waitKey(0)\n",
    "cv2.destroyAllWindows()"
   ]
  },
  {
   "cell_type": "code",
   "execution_count": 7,
   "id": "c0ffcb3e",
   "metadata": {},
   "outputs": [],
   "source": [
    "#XOR operation (exclusive disjunction)\n",
    "img_xor=cv2.bitwise_xor(rectangle,circle)\n",
    "cv2.imshow('XOR',img_xor)\n",
    "cv2.waitKey(0)\n",
    "cv2.destroyAllWindows()"
   ]
  },
  {
   "cell_type": "code",
   "execution_count": null,
   "id": "9b148037",
   "metadata": {},
   "outputs": [],
   "source": []
  }
 ],
 "metadata": {
  "kernelspec": {
   "display_name": "Python 3 (ipykernel)",
   "language": "python",
   "name": "python3"
  },
  "language_info": {
   "codemirror_mode": {
    "name": "ipython",
    "version": 3
   },
   "file_extension": ".py",
   "mimetype": "text/x-python",
   "name": "python",
   "nbconvert_exporter": "python",
   "pygments_lexer": "ipython3",
   "version": "3.10.0"
  }
 },
 "nbformat": 4,
 "nbformat_minor": 5
}
