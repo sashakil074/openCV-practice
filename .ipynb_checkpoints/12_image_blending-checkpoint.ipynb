{
 "cells": [
  {
   "cell_type": "code",
   "execution_count": 1,
   "id": "59c5d424",
   "metadata": {},
   "outputs": [],
   "source": [
    "#Arithmatic operations\n",
    "#blending\n",
    "import numpy as np\n",
    "import cv2"
   ]
  },
  {
   "cell_type": "code",
   "execution_count": 20,
   "id": "2659644a",
   "metadata": {},
   "outputs": [],
   "source": [
    "img1=cv2.imread('./files/flemingo.jpg')\n",
    "img2=cv2.imread('./files/tree.jpg')\n",
    "\n",
    "img11=img1[0:300,0:300]\n",
    "img22=img2[0:300,0:300]"
   ]
  },
  {
   "cell_type": "code",
   "execution_count": 3,
   "id": "0e5f7281",
   "metadata": {},
   "outputs": [],
   "source": [
    "#display function\n",
    "\n",
    "def display(winname,src):\n",
    "    cv2.imshow(winname,src)\n",
    "    cv2.waitKey(0)\n",
    "    cv2.destroyAllWindows()"
   ]
  },
  {
   "cell_type": "code",
   "execution_count": 21,
   "id": "39d0cc82",
   "metadata": {},
   "outputs": [],
   "source": [
    "#blending\n",
    "img_blend=cv2.addWeighted(img11,0.7,img22,0.3,0) #blending=cv2.addWeighted(image1,alpha,image2,beta,gamma),here gamma=brightness(pixel value added to image)\n",
    "display('blending',img_blend)#2 image blended"
   ]
  },
  {
   "cell_type": "code",
   "execution_count": null,
   "id": "9ff4bcf9",
   "metadata": {},
   "outputs": [],
   "source": []
  }
 ],
 "metadata": {
  "kernelspec": {
   "display_name": "Python 3 (ipykernel)",
   "language": "python",
   "name": "python3"
  },
  "language_info": {
   "codemirror_mode": {
    "name": "ipython",
    "version": 3
   },
   "file_extension": ".py",
   "mimetype": "text/x-python",
   "name": "python",
   "nbconvert_exporter": "python",
   "pygments_lexer": "ipython3",
   "version": "3.10.0"
  }
 },
 "nbformat": 4,
 "nbformat_minor": 5
}
