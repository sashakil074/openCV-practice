{
 "cells": [
  {
   "cell_type": "code",
   "execution_count": 3,
   "id": "5ba1926d",
   "metadata": {},
   "outputs": [],
   "source": [
    "import numpy as np\n",
    "import cv2\n",
    "src=cv2.imread('./files/flemingo.jpg')"
   ]
  },
  {
   "cell_type": "code",
   "execution_count": null,
   "id": "9fa056e9",
   "metadata": {},
   "outputs": [],
   "source": []
  },
  {
   "cell_type": "code",
   "execution_count": 7,
   "id": "3f991a86",
   "metadata": {},
   "outputs": [],
   "source": [
    "#edge preserving filter(domain filter)\n",
    "\n",
    "df=cv2.edgePreservingFilter(src,flags=1,sigma_s=60,sigma_r=0.4)\n",
    "cv2.imshow(\"Domain filter cartoonify\",df)\n",
    "cv2.waitKey(0)\n",
    "cv2.destroyAllWindows()"
   ]
  },
  {
   "cell_type": "code",
   "execution_count": 9,
   "id": "5804d431",
   "metadata": {},
   "outputs": [],
   "source": [
    "#mean filter\n",
    "kernel=np.ones((10,10),np.float32)/25\n",
    "dst2=cv2.filter2D(src,-1,kernel)\n",
    "cv2.imshow(\"mean filter\",dst2)\n",
    "cv2.waitKey(0)\n",
    "cv2.destroyAllWindows()"
   ]
  },
  {
   "cell_type": "code",
   "execution_count": 10,
   "id": "a5e4261a",
   "metadata": {},
   "outputs": [],
   "source": [
    "#gaussian filter\n",
    "\n",
    "dst=cv2.GaussianBlur(src,(5,5),0)\n",
    "cv2.imshow(\"Gaussian blur\",dst)\n",
    "cv2.waitKey(0)\n",
    "cv2.destroyAllWindows()"
   ]
  },
  {
   "cell_type": "code",
   "execution_count": 12,
   "id": "10a2f89c",
   "metadata": {},
   "outputs": [],
   "source": [
    "#median filter\n",
    "dst3=cv2.medianBlur(src,5)\n",
    "cv2.imshow(\"median filter\",dst3)\n",
    "cv2.waitKey(0)\n",
    "cv2.destroyAllWindows()"
   ]
  },
  {
   "cell_type": "code",
   "execution_count": 13,
   "id": "b0f9e206",
   "metadata": {},
   "outputs": [],
   "source": [
    "#sharpening filters\n",
    "\n",
    "#bilateral fileter\n",
    "\n",
    "dst4=cv2.bilateralFilter(src,60,60,60)\n",
    "cv2.imshow(\"bilateral filter\",dst4)\n",
    "cv2.waitKey(0)\n",
    "cv2.destroyAllWindows()"
   ]
  },
  {
   "cell_type": "code",
   "execution_count": 15,
   "id": "c88fca68",
   "metadata": {},
   "outputs": [],
   "source": [
    "#frequency band filter\n",
    "\n",
    "#low pass\n",
    "dst2=cv2.filter2D(src,-1,kernel)\n",
    "lp=src-dst2\n",
    "cv2.imshow(\"lowpass filter\",lp)\n",
    "cv2.waitKey(0)\n",
    "cv2.destroyAllWindows()"
   ]
  },
  {
   "cell_type": "code",
   "execution_count": 16,
   "id": "5782abf2",
   "metadata": {},
   "outputs": [],
   "source": [
    "#high pass \n",
    "hp=src-dst\n",
    "cv2.imshow(\"highpass filter\",hp)\n",
    "cv2.waitKey(0)\n",
    "cv2.destroyAllWindows()"
   ]
  },
  {
   "cell_type": "code",
   "execution_count": null,
   "id": "26550ef2",
   "metadata": {},
   "outputs": [],
   "source": []
  },
  {
   "cell_type": "code",
   "execution_count": null,
   "id": "0d0c0a23",
   "metadata": {},
   "outputs": [],
   "source": []
  },
  {
   "cell_type": "code",
   "execution_count": null,
   "id": "13509572",
   "metadata": {},
   "outputs": [],
   "source": []
  },
  {
   "cell_type": "code",
   "execution_count": null,
   "id": "227b03fc",
   "metadata": {},
   "outputs": [],
   "source": []
  },
  {
   "cell_type": "code",
   "execution_count": null,
   "id": "7019f16e",
   "metadata": {},
   "outputs": [],
   "source": []
  },
  {
   "cell_type": "code",
   "execution_count": null,
   "id": "a92929dc",
   "metadata": {},
   "outputs": [],
   "source": []
  },
  {
   "cell_type": "code",
   "execution_count": null,
   "id": "7e270ef6",
   "metadata": {},
   "outputs": [],
   "source": []
  },
  {
   "cell_type": "code",
   "execution_count": null,
   "id": "340a2831",
   "metadata": {},
   "outputs": [],
   "source": []
  }
 ],
 "metadata": {
  "kernelspec": {
   "display_name": "Python 3 (ipykernel)",
   "language": "python",
   "name": "python3"
  },
  "language_info": {
   "codemirror_mode": {
    "name": "ipython",
    "version": 3
   },
   "file_extension": ".py",
   "mimetype": "text/x-python",
   "name": "python",
   "nbconvert_exporter": "python",
   "pygments_lexer": "ipython3",
   "version": "3.10.0"
  }
 },
 "nbformat": 4,
 "nbformat_minor": 5
}
