{
 "cells": [
  {
   "cell_type": "code",
   "execution_count": 1,
   "id": "57cb2443",
   "metadata": {},
   "outputs": [],
   "source": [
    "import numpy as np\n",
    "import cv2"
   ]
  },
  {
   "cell_type": "code",
   "execution_count": 19,
   "id": "e6c149a9",
   "metadata": {},
   "outputs": [],
   "source": [
    "#display function\n",
    "\n",
    "def display(winname,src):\n",
    "    cv2.imshow(winname,src)\n",
    "    cv2.waitKey(0)\n",
    "    cv2.destroyAllWindows()"
   ]
  },
  {
   "cell_type": "code",
   "execution_count": 5,
   "id": "4e5c7c22",
   "metadata": {},
   "outputs": [],
   "source": [
    "#line drawing\n",
    "\n",
    "#define canvas\n",
    "\n",
    "canvas=np.zeros((300,300,3),dtype=\"uint8\")\n",
    "\n",
    "display('canvas',canvas)"
   ]
  },
  {
   "cell_type": "code",
   "execution_count": 8,
   "id": "a6d0237a",
   "metadata": {},
   "outputs": [],
   "source": [
    "green=(0,255,0)\n",
    "cv2.line(canvas,(0,0),(300,300),green,1)\n",
    "display('canvas',canvas)"
   ]
  },
  {
   "cell_type": "code",
   "execution_count": 9,
   "id": "fdacd893",
   "metadata": {},
   "outputs": [],
   "source": [
    "red=(0,0,255)\n",
    "cv2.line(canvas,(300,0),(0,300),red,2)\n",
    "display('canvas',canvas)"
   ]
  },
  {
   "cell_type": "code",
   "execution_count": 10,
   "id": "19ea6967",
   "metadata": {},
   "outputs": [],
   "source": [
    "#rectangle drawing\n",
    "cv2.rectangle(canvas,(30,30),(80,80),green)\n",
    "display('canvas',canvas)"
   ]
  },
  {
   "cell_type": "code",
   "execution_count": 12,
   "id": "ca4def45",
   "metadata": {},
   "outputs": [],
   "source": [
    "#with thickness\n",
    "cv2.rectangle(canvas,(170,100),(250,150),red,5)\n",
    "display('canvas',canvas)"
   ]
  },
  {
   "cell_type": "code",
   "execution_count": 14,
   "id": "27893f54",
   "metadata": {},
   "outputs": [],
   "source": [
    "#with filled color\n",
    "blue=(255,0,0)\n",
    "cv2.rectangle(canvas,(200,190),(285,250),blue,-1)\n",
    "display('canvas',canvas)"
   ]
  },
  {
   "cell_type": "code",
   "execution_count": 15,
   "id": "1f61cbe6",
   "metadata": {},
   "outputs": [],
   "source": [
    "#circle drawing\n",
    "canvas2=np.zeros((300,300,3),dtype=\"uint8\")\n",
    "\n",
    "white=(255,255,255)\n",
    "\n",
    "cx,cy=(canvas2.shape[1]//2,canvas2.shape[0]//2)\n",
    "\n",
    "for r in range(0,175,25):\n",
    "    cv2.circle(canvas2,(cx,cy),r,white)\n",
    "display('circles',canvas2)"
   ]
  },
  {
   "cell_type": "code",
   "execution_count": 20,
   "id": "5b4424a7",
   "metadata": {},
   "outputs": [],
   "source": [
    "#single circle\n",
    "cv2.circle(canvas2,(175,200),25,blue)\n",
    "display('circles',canvas2)"
   ]
  },
  {
   "cell_type": "code",
   "execution_count": 41,
   "id": "377a1aa6",
   "metadata": {},
   "outputs": [],
   "source": [
    "#abstruct circle drawing\n",
    "canvas3=np.zeros((300,300,3),dtype=\"uint8\")\n",
    "for i in range(0,25):\n",
    "    radius=np.random.randint(5,200)\n",
    "    colors=np.random.randint(256,size=3).tolist()\n",
    "    pt=np.random.randint(300,size=2)\n",
    "    cv2.circle(canvas3,tuple(pt),radius,colors,-1)\n",
    "display('abstruct images',canvas3)"
   ]
  },
  {
   "cell_type": "code",
   "execution_count": null,
   "id": "1b099a0b",
   "metadata": {},
   "outputs": [],
   "source": []
  }
 ],
 "metadata": {
  "kernelspec": {
   "display_name": "Python 3 (ipykernel)",
   "language": "python",
   "name": "python3"
  },
  "language_info": {
   "codemirror_mode": {
    "name": "ipython",
    "version": 3
   },
   "file_extension": ".py",
   "mimetype": "text/x-python",
   "name": "python",
   "nbconvert_exporter": "python",
   "pygments_lexer": "ipython3",
   "version": "3.10.0"
  }
 },
 "nbformat": 4,
 "nbformat_minor": 5
}
