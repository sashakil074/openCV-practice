{
 "cells": [
  {
   "cell_type": "code",
   "execution_count": 1,
   "id": "a1126509",
   "metadata": {},
   "outputs": [],
   "source": [
    "import numpy as np\n",
    "import cv2"
   ]
  },
  {
   "cell_type": "code",
   "execution_count": 2,
   "id": "fe992b8e",
   "metadata": {},
   "outputs": [],
   "source": [
    "img=cv2.imread('./files/flemingo.jpg')"
   ]
  },
  {
   "cell_type": "code",
   "execution_count": 3,
   "id": "db623e48",
   "metadata": {},
   "outputs": [
    {
     "data": {
      "text/plain": [
       "(359, 479, 3)"
      ]
     },
     "execution_count": 3,
     "metadata": {},
     "output_type": "execute_result"
    }
   ],
   "source": [
    "img.shape"
   ]
  },
  {
   "cell_type": "code",
   "execution_count": 4,
   "id": "6d9ff5aa",
   "metadata": {},
   "outputs": [],
   "source": [
    "#display function\n",
    "\n",
    "def display(winname,src):\n",
    "    cv2.imshow('winname',src)\n",
    "    cv2.waitKey(0)\n",
    "    cv2.destroyAllWindows()"
   ]
  },
  {
   "cell_type": "code",
   "execution_count": 6,
   "id": "7ee306f7",
   "metadata": {},
   "outputs": [],
   "source": [
    "display('image',img)"
   ]
  },
  {
   "cell_type": "code",
   "execution_count": 8,
   "id": "67a23f8c",
   "metadata": {},
   "outputs": [],
   "source": [
    "#numerical operations\n",
    "#accessing first 100 rows and 100 columns\n",
    "corners=img[0:100,0:100]\n",
    "\n",
    "#displaying the selected rows and coulmns\n",
    "display('corners',corners)"
   ]
  },
  {
   "cell_type": "code",
   "execution_count": 9,
   "id": "716ede78",
   "metadata": {},
   "outputs": [],
   "source": [
    "#numerical operations\n",
    "#changing first 100 rows and 100 columns color's to green\n",
    "\n",
    "green=(0,255,0)\n",
    "img[0:100,0:100]=green\n",
    "\n",
    "display(\"manipulate\",img)"
   ]
  },
  {
   "cell_type": "code",
   "execution_count": null,
   "id": "69d906ef",
   "metadata": {},
   "outputs": [],
   "source": []
  }
 ],
 "metadata": {
  "kernelspec": {
   "display_name": "Python 3 (ipykernel)",
   "language": "python",
   "name": "python3"
  },
  "language_info": {
   "codemirror_mode": {
    "name": "ipython",
    "version": 3
   },
   "file_extension": ".py",
   "mimetype": "text/x-python",
   "name": "python",
   "nbconvert_exporter": "python",
   "pygments_lexer": "ipython3",
   "version": "3.10.0"
  }
 },
 "nbformat": 4,
 "nbformat_minor": 5
}
